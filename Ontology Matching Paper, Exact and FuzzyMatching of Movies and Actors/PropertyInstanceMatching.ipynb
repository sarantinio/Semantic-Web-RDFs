{
 "cells": [
  {
   "cell_type": "code",
   "execution_count": 89,
   "metadata": {},
   "outputs": [
    {
     "name": "stdout",
     "output_type": "stream",
     "text": [
      "Populating the interactive namespace from numpy and matplotlib\n"
     ]
    }
   ],
   "source": [
    "### IMPORTS ###\n",
    "import os\n",
    "import pandas as pd\n",
    "import jellyfish\n",
    "import numpy as np\n",
    "% pylab inline"
   ]
  },
  {
   "cell_type": "code",
   "execution_count": 2,
   "metadata": {},
   "outputs": [
    {
     "name": "stderr",
     "output_type": "stream",
     "text": [
      "/Users/Play/anaconda3/envs/knowledge-representation-2/lib/python3.6/site-packages/numpy/lib/arraysetops.py:472: FutureWarning: elementwise comparison failed; returning scalar instead, but in the future will perform elementwise comparison\n",
      "  mask |= (ar1 == a)\n"
     ]
    }
   ],
   "source": [
    "df = pd.read_csv(os.path.join('Data', 'PropertyMatching', 'full_dataset.csv'), index_col=0)"
   ]
  },
  {
   "cell_type": "code",
   "execution_count": 3,
   "metadata": {},
   "outputs": [
    {
     "data": {
      "text/html": [
       "<div>\n",
       "<style scoped>\n",
       "    .dataframe tbody tr th:only-of-type {\n",
       "        vertical-align: middle;\n",
       "    }\n",
       "\n",
       "    .dataframe tbody tr th {\n",
       "        vertical-align: top;\n",
       "    }\n",
       "\n",
       "    .dataframe thead th {\n",
       "        text-align: right;\n",
       "    }\n",
       "</style>\n",
       "<table border=\"1\" class=\"dataframe\">\n",
       "  <thead>\n",
       "    <tr style=\"text-align: right;\">\n",
       "      <th></th>\n",
       "      <th>LMDB_URI</th>\n",
       "      <th>LMDB_DB_link</th>\n",
       "      <th>DB_URI</th>\n",
       "      <th>LMDB_title</th>\n",
       "      <th>DB_title</th>\n",
       "      <th>LMDB_runtime</th>\n",
       "      <th>DB_runtime</th>\n",
       "      <th>GROUND_TRUTH</th>\n",
       "      <th>TITLE_MATCH</th>\n",
       "      <th>RUNTIME_MATCH</th>\n",
       "      <th>EXACT_MATCH</th>\n",
       "    </tr>\n",
       "  </thead>\n",
       "  <tbody>\n",
       "    <tr>\n",
       "      <th>0</th>\n",
       "      <td>http://data.linkedmdb.org/resource/film/6235</td>\n",
       "      <td>http://dbpedia.org/resource/Bicentennial_Man_(...</td>\n",
       "      <td>http://dbpedia.org/resource/Bicentennial_Man_(...</td>\n",
       "      <td>Bicentennial Man</td>\n",
       "      <td>Bicentennial Man</td>\n",
       "      <td>132</td>\n",
       "      <td>120.0</td>\n",
       "      <td>True</td>\n",
       "      <td>True</td>\n",
       "      <td>False</td>\n",
       "      <td>False</td>\n",
       "    </tr>\n",
       "    <tr>\n",
       "      <th>1</th>\n",
       "      <td>http://data.linkedmdb.org/resource/film/6235</td>\n",
       "      <td>http://dbpedia.org/resource/Bicentennial_Man_(...</td>\n",
       "      <td>http://dbpedia.org/resource/The_Hand_(film)</td>\n",
       "      <td>Bicentennial Man</td>\n",
       "      <td>The Hand</td>\n",
       "      <td>132</td>\n",
       "      <td>104.0</td>\n",
       "      <td>False</td>\n",
       "      <td>False</td>\n",
       "      <td>False</td>\n",
       "      <td>False</td>\n",
       "    </tr>\n",
       "    <tr>\n",
       "      <th>2</th>\n",
       "      <td>http://data.linkedmdb.org/resource/film/6235</td>\n",
       "      <td>http://dbpedia.org/resource/Bicentennial_Man_(...</td>\n",
       "      <td>http://dbpedia.org/resource/The_Telegraph_Trail</td>\n",
       "      <td>Bicentennial Man</td>\n",
       "      <td>The Telegraph Trail</td>\n",
       "      <td>132</td>\n",
       "      <td>54.0</td>\n",
       "      <td>False</td>\n",
       "      <td>False</td>\n",
       "      <td>False</td>\n",
       "      <td>False</td>\n",
       "    </tr>\n",
       "    <tr>\n",
       "      <th>3</th>\n",
       "      <td>http://data.linkedmdb.org/resource/film/6235</td>\n",
       "      <td>http://dbpedia.org/resource/Bicentennial_Man_(...</td>\n",
       "      <td>http://dbpedia.org/resource/Eye_of_the_Needle_...</td>\n",
       "      <td>Bicentennial Man</td>\n",
       "      <td>Eye of the Needle</td>\n",
       "      <td>132</td>\n",
       "      <td>112.0</td>\n",
       "      <td>False</td>\n",
       "      <td>False</td>\n",
       "      <td>False</td>\n",
       "      <td>False</td>\n",
       "    </tr>\n",
       "    <tr>\n",
       "      <th>4</th>\n",
       "      <td>http://data.linkedmdb.org/resource/film/6235</td>\n",
       "      <td>http://dbpedia.org/resource/Bicentennial_Man_(...</td>\n",
       "      <td>http://dbpedia.org/resource/A_Smoky_Mountain_C...</td>\n",
       "      <td>Bicentennial Man</td>\n",
       "      <td>A Smoky Mountain Christmas</td>\n",
       "      <td>132</td>\n",
       "      <td>94.0</td>\n",
       "      <td>False</td>\n",
       "      <td>False</td>\n",
       "      <td>False</td>\n",
       "      <td>False</td>\n",
       "    </tr>\n",
       "  </tbody>\n",
       "</table>\n",
       "</div>"
      ],
      "text/plain": [
       "                                       LMDB_URI  \\\n",
       "0  http://data.linkedmdb.org/resource/film/6235   \n",
       "1  http://data.linkedmdb.org/resource/film/6235   \n",
       "2  http://data.linkedmdb.org/resource/film/6235   \n",
       "3  http://data.linkedmdb.org/resource/film/6235   \n",
       "4  http://data.linkedmdb.org/resource/film/6235   \n",
       "\n",
       "                                        LMDB_DB_link  \\\n",
       "0  http://dbpedia.org/resource/Bicentennial_Man_(...   \n",
       "1  http://dbpedia.org/resource/Bicentennial_Man_(...   \n",
       "2  http://dbpedia.org/resource/Bicentennial_Man_(...   \n",
       "3  http://dbpedia.org/resource/Bicentennial_Man_(...   \n",
       "4  http://dbpedia.org/resource/Bicentennial_Man_(...   \n",
       "\n",
       "                                              DB_URI        LMDB_title  \\\n",
       "0  http://dbpedia.org/resource/Bicentennial_Man_(...  Bicentennial Man   \n",
       "1        http://dbpedia.org/resource/The_Hand_(film)  Bicentennial Man   \n",
       "2    http://dbpedia.org/resource/The_Telegraph_Trail  Bicentennial Man   \n",
       "3  http://dbpedia.org/resource/Eye_of_the_Needle_...  Bicentennial Man   \n",
       "4  http://dbpedia.org/resource/A_Smoky_Mountain_C...  Bicentennial Man   \n",
       "\n",
       "                     DB_title  LMDB_runtime  DB_runtime  GROUND_TRUTH  \\\n",
       "0            Bicentennial Man           132       120.0          True   \n",
       "1                    The Hand           132       104.0         False   \n",
       "2         The Telegraph Trail           132        54.0         False   \n",
       "3           Eye of the Needle           132       112.0         False   \n",
       "4  A Smoky Mountain Christmas           132        94.0         False   \n",
       "\n",
       "   TITLE_MATCH  RUNTIME_MATCH  EXACT_MATCH  \n",
       "0         True          False        False  \n",
       "1        False          False        False  \n",
       "2        False          False        False  \n",
       "3        False          False        False  \n",
       "4        False          False        False  "
      ]
     },
     "execution_count": 3,
     "metadata": {},
     "output_type": "execute_result"
    }
   ],
   "source": [
    "df.head()"
   ]
  },
  {
   "cell_type": "code",
   "execution_count": 4,
   "metadata": {},
   "outputs": [],
   "source": [
    "### CALCULATE ABSOLUTE RUNTIME DISTANCE ###\n",
    "df['ABS_RUNTIME_DISTANCE'] = df['LMDB_runtime'] - df['DB_runtime']\n",
    "df['ABS_RUNTIME_DISTANCE'] = df['ABS_RUNTIME_DISTANCE'].abs()"
   ]
  },
  {
   "cell_type": "code",
   "execution_count": 5,
   "metadata": {},
   "outputs": [],
   "source": [
    "### CALCUALTE LEVEHSHENSHSTHEE TITLE DISTANCE ###\n",
    "def rowwise_levenshtein(row):\n",
    "    return jellyfish.levenshtein_distance(row['LMDB_title'], row['DB_title'])\n",
    "df['LEV_TITLE_DISTANCE'] = df.apply(rowwise_levenshtein, axis=1)"
   ]
  },
  {
   "cell_type": "code",
   "execution_count": 6,
   "metadata": {},
   "outputs": [
    {
     "data": {
      "text/html": [
       "<div>\n",
       "<style scoped>\n",
       "    .dataframe tbody tr th:only-of-type {\n",
       "        vertical-align: middle;\n",
       "    }\n",
       "\n",
       "    .dataframe tbody tr th {\n",
       "        vertical-align: top;\n",
       "    }\n",
       "\n",
       "    .dataframe thead th {\n",
       "        text-align: right;\n",
       "    }\n",
       "</style>\n",
       "<table border=\"1\" class=\"dataframe\">\n",
       "  <thead>\n",
       "    <tr style=\"text-align: right;\">\n",
       "      <th></th>\n",
       "      <th>LMDB_URI</th>\n",
       "      <th>LMDB_DB_link</th>\n",
       "      <th>DB_URI</th>\n",
       "      <th>LMDB_title</th>\n",
       "      <th>DB_title</th>\n",
       "      <th>LMDB_runtime</th>\n",
       "      <th>DB_runtime</th>\n",
       "      <th>GROUND_TRUTH</th>\n",
       "      <th>TITLE_MATCH</th>\n",
       "      <th>RUNTIME_MATCH</th>\n",
       "      <th>EXACT_MATCH</th>\n",
       "      <th>ABS_RUNTIME_DISTANCE</th>\n",
       "      <th>LEV_TITLE_DISTANCE</th>\n",
       "    </tr>\n",
       "  </thead>\n",
       "  <tbody>\n",
       "    <tr>\n",
       "      <th>0</th>\n",
       "      <td>http://data.linkedmdb.org/resource/film/6235</td>\n",
       "      <td>http://dbpedia.org/resource/Bicentennial_Man_(...</td>\n",
       "      <td>http://dbpedia.org/resource/Bicentennial_Man_(...</td>\n",
       "      <td>Bicentennial Man</td>\n",
       "      <td>Bicentennial Man</td>\n",
       "      <td>132</td>\n",
       "      <td>120.0</td>\n",
       "      <td>True</td>\n",
       "      <td>True</td>\n",
       "      <td>False</td>\n",
       "      <td>False</td>\n",
       "      <td>0.002041</td>\n",
       "      <td>0.000000</td>\n",
       "    </tr>\n",
       "    <tr>\n",
       "      <th>1</th>\n",
       "      <td>http://data.linkedmdb.org/resource/film/6235</td>\n",
       "      <td>http://dbpedia.org/resource/Bicentennial_Man_(...</td>\n",
       "      <td>http://dbpedia.org/resource/The_Hand_(film)</td>\n",
       "      <td>Bicentennial Man</td>\n",
       "      <td>The Hand</td>\n",
       "      <td>132</td>\n",
       "      <td>104.0</td>\n",
       "      <td>False</td>\n",
       "      <td>False</td>\n",
       "      <td>False</td>\n",
       "      <td>False</td>\n",
       "      <td>0.004762</td>\n",
       "      <td>0.121495</td>\n",
       "    </tr>\n",
       "    <tr>\n",
       "      <th>2</th>\n",
       "      <td>http://data.linkedmdb.org/resource/film/6235</td>\n",
       "      <td>http://dbpedia.org/resource/Bicentennial_Man_(...</td>\n",
       "      <td>http://dbpedia.org/resource/The_Telegraph_Trail</td>\n",
       "      <td>Bicentennial Man</td>\n",
       "      <td>The Telegraph Trail</td>\n",
       "      <td>132</td>\n",
       "      <td>54.0</td>\n",
       "      <td>False</td>\n",
       "      <td>False</td>\n",
       "      <td>False</td>\n",
       "      <td>False</td>\n",
       "      <td>0.013265</td>\n",
       "      <td>0.140187</td>\n",
       "    </tr>\n",
       "    <tr>\n",
       "      <th>3</th>\n",
       "      <td>http://data.linkedmdb.org/resource/film/6235</td>\n",
       "      <td>http://dbpedia.org/resource/Bicentennial_Man_(...</td>\n",
       "      <td>http://dbpedia.org/resource/Eye_of_the_Needle_...</td>\n",
       "      <td>Bicentennial Man</td>\n",
       "      <td>Eye of the Needle</td>\n",
       "      <td>132</td>\n",
       "      <td>112.0</td>\n",
       "      <td>False</td>\n",
       "      <td>False</td>\n",
       "      <td>False</td>\n",
       "      <td>False</td>\n",
       "      <td>0.003401</td>\n",
       "      <td>0.158879</td>\n",
       "    </tr>\n",
       "    <tr>\n",
       "      <th>4</th>\n",
       "      <td>http://data.linkedmdb.org/resource/film/6235</td>\n",
       "      <td>http://dbpedia.org/resource/Bicentennial_Man_(...</td>\n",
       "      <td>http://dbpedia.org/resource/A_Smoky_Mountain_C...</td>\n",
       "      <td>Bicentennial Man</td>\n",
       "      <td>A Smoky Mountain Christmas</td>\n",
       "      <td>132</td>\n",
       "      <td>94.0</td>\n",
       "      <td>False</td>\n",
       "      <td>False</td>\n",
       "      <td>False</td>\n",
       "      <td>False</td>\n",
       "      <td>0.006463</td>\n",
       "      <td>0.205607</td>\n",
       "    </tr>\n",
       "  </tbody>\n",
       "</table>\n",
       "</div>"
      ],
      "text/plain": [
       "                                       LMDB_URI  \\\n",
       "0  http://data.linkedmdb.org/resource/film/6235   \n",
       "1  http://data.linkedmdb.org/resource/film/6235   \n",
       "2  http://data.linkedmdb.org/resource/film/6235   \n",
       "3  http://data.linkedmdb.org/resource/film/6235   \n",
       "4  http://data.linkedmdb.org/resource/film/6235   \n",
       "\n",
       "                                        LMDB_DB_link  \\\n",
       "0  http://dbpedia.org/resource/Bicentennial_Man_(...   \n",
       "1  http://dbpedia.org/resource/Bicentennial_Man_(...   \n",
       "2  http://dbpedia.org/resource/Bicentennial_Man_(...   \n",
       "3  http://dbpedia.org/resource/Bicentennial_Man_(...   \n",
       "4  http://dbpedia.org/resource/Bicentennial_Man_(...   \n",
       "\n",
       "                                              DB_URI        LMDB_title  \\\n",
       "0  http://dbpedia.org/resource/Bicentennial_Man_(...  Bicentennial Man   \n",
       "1        http://dbpedia.org/resource/The_Hand_(film)  Bicentennial Man   \n",
       "2    http://dbpedia.org/resource/The_Telegraph_Trail  Bicentennial Man   \n",
       "3  http://dbpedia.org/resource/Eye_of_the_Needle_...  Bicentennial Man   \n",
       "4  http://dbpedia.org/resource/A_Smoky_Mountain_C...  Bicentennial Man   \n",
       "\n",
       "                     DB_title  LMDB_runtime  DB_runtime  GROUND_TRUTH  \\\n",
       "0            Bicentennial Man           132       120.0          True   \n",
       "1                    The Hand           132       104.0         False   \n",
       "2         The Telegraph Trail           132        54.0         False   \n",
       "3           Eye of the Needle           132       112.0         False   \n",
       "4  A Smoky Mountain Christmas           132        94.0         False   \n",
       "\n",
       "   TITLE_MATCH  RUNTIME_MATCH  EXACT_MATCH  ABS_RUNTIME_DISTANCE  \\\n",
       "0         True          False        False              0.002041   \n",
       "1        False          False        False              0.004762   \n",
       "2        False          False        False              0.013265   \n",
       "3        False          False        False              0.003401   \n",
       "4        False          False        False              0.006463   \n",
       "\n",
       "   LEV_TITLE_DISTANCE  \n",
       "0            0.000000  \n",
       "1            0.121495  \n",
       "2            0.140187  \n",
       "3            0.158879  \n",
       "4            0.205607  "
      ]
     },
     "execution_count": 6,
     "metadata": {},
     "output_type": "execute_result"
    }
   ],
   "source": [
    "### NORMALIZE DISTANCE MEASURES TO 0-1 ###\n",
    "df['ABS_RUNTIME_DISTANCE'] = (df['ABS_RUNTIME_DISTANCE'] - df['ABS_RUNTIME_DISTANCE'].min()) / (df['ABS_RUNTIME_DISTANCE'].max() - df['ABS_RUNTIME_DISTANCE'].min())\n",
    "df['LEV_TITLE_DISTANCE'] = (df['LEV_TITLE_DISTANCE'] - df['LEV_TITLE_DISTANCE'].min()) / (df['LEV_TITLE_DISTANCE'].max() - df['LEV_TITLE_DISTANCE'].min())\n",
    "df.head()"
   ]
  },
  {
   "cell_type": "code",
   "execution_count": 56,
   "metadata": {},
   "outputs": [],
   "source": [
    "### COMPUTE FUZZY SCORE AS A LINEAR COMBINATION OF THE 2 DISTANCES ###\n",
    "df['FUZZY_SCORE'] = 1 - (0.8 * df['LEV_TITLE_DISTANCE'] + 0.2 * df['ABS_RUNTIME_DISTANCE'])"
   ]
  },
  {
   "cell_type": "code",
   "execution_count": 57,
   "metadata": {},
   "outputs": [],
   "source": [
    "### SAVE THE CSV WILL ALL FEATURES ###\n",
    "df.to_csv(os.path.join('Data', 'PropertyMatching', 'full_dataset.csv'))"
   ]
  },
  {
   "cell_type": "code",
   "execution_count": 82,
   "metadata": {},
   "outputs": [
    {
     "data": {
      "text/plain": [
       "count    2240.000000\n",
       "mean        0.995070\n",
       "std         0.028313\n",
       "min         0.312150\n",
       "25%         0.999898\n",
       "50%         1.000000\n",
       "75%         1.000000\n",
       "max         1.000000\n",
       "Name: FUZZY_SCORE, dtype: float64"
      ]
     },
     "execution_count": 82,
     "metadata": {},
     "output_type": "execute_result"
    }
   ],
   "source": [
    "### DESCRIBE POSTIVE INSTANCES ###\n",
    "df[df['GROUND_TRUTH']]['FUZZY_SCORE'].describe()"
   ]
  },
  {
   "cell_type": "code",
   "execution_count": 83,
   "metadata": {},
   "outputs": [
    {
     "data": {
      "text/plain": [
       "count    4.873024e+06\n",
       "mean     8.810078e-01\n",
       "std      4.718521e-02\n",
       "min      1.956463e-01\n",
       "25%      8.575017e-01\n",
       "50%      8.874423e-01\n",
       "75%      9.102123e-01\n",
       "max      9.994898e-01\n",
       "Name: FUZZY_SCORE, dtype: float64"
      ]
     },
     "execution_count": 83,
     "metadata": {},
     "output_type": "execute_result"
    }
   ],
   "source": [
    "### DESCRIBE NEGATIVE INSTANCES ###\n",
    "df[-df['GROUND_TRUTH']]['FUZZY_SCORE'].describe()"
   ]
  },
  {
   "cell_type": "code",
   "execution_count": 95,
   "metadata": {},
   "outputs": [
    {
     "name": "stdout",
     "output_type": "stream",
     "text": [
      "  POSITIVE MEAN:  0.9950697543308878\n",
      "  NEGATIVE MEAN:  0.8810078233604658\n",
      "POSITIVE MEDIAN:  1.0\n",
      "NEGATIVE MEDIAN:  0.8874423040244135\n",
      "       ACCURACY:  0.9999739501286494\n",
      "      PRECISION:  0.989800649049606\n",
      "         RECALL:  0.953125\n"
     ]
    }
   ],
   "source": [
    "### CALCUALTE QUALITY MEASURES ###\n",
    "threshold = 0.99\n",
    "positive_median = df[df['GROUND_TRUTH']]['FUZZY_SCORE'].median()\n",
    "negative_median = df[-df['GROUND_TRUTH']]['FUZZY_SCORE'].median()\n",
    "\n",
    "positive_mean = df[df['GROUND_TRUTH']]['FUZZY_SCORE'].mean()\n",
    "negative_mean = df[-df['GROUND_TRUTH']]['FUZZY_SCORE'].mean()\n",
    "\n",
    "positive_mean = df[df['GROUND_TRUTH']]['FUZZY_SCORE'].mean()\n",
    "negative_mean = df[-df['GROUND_TRUTH']]['FUZZY_SCORE'].mean()\n",
    "\n",
    "retrieved = df[df['FUZZY_SCORE'] >= threshold].shape[0]\n",
    "relevant = df[df['GROUND_TRUTH']].shape[0]\n",
    "relevant_and_retrieved = df[(df['GROUND_TRUTH']) & (df['FUZZY_SCORE'] >= threshold)].shape[0]\n",
    "non_relevant_and_non_retrieved = df[(-df['GROUND_TRUTH']) & (df['FUZZY_SCORE'] < threshold)].shape[0]\n",
    "\n",
    "accuracy = (relevant_and_retrieved + non_relevant_and_non_retrieved) / df.shape[0]\n",
    "precision = relevant_and_retrieved / retrieved\n",
    "recall = relevant_and_retrieved / relevant\n",
    "\n",
    "print(\"  POSITIVE MEAN: \", positive_mean)\n",
    "print(\"  NEGATIVE MEAN: \", negative_mean)\n",
    "print(\"POSITIVE MEDIAN: \", positive_median)\n",
    "print(\"NEGATIVE MEDIAN: \", negative_median)\n",
    "print(\"       ACCURACY: \", accuracy)\n",
    "print(\"      PRECISION: \", precision)\n",
    "print(\"         RECALL: \", recall)"
   ]
  },
  {
   "cell_type": "code",
   "execution_count": 96,
   "metadata": {
    "scrolled": true
   },
   "outputs": [
    {
     "name": "stdout",
     "output_type": "stream",
     "text": [
      "0 0.0\n",
      "1 0.01\n",
      "2 0.02\n",
      "3 0.03\n",
      "4 0.04\n",
      "5 0.05\n",
      "6 0.06\n",
      "7 0.07\n",
      "8 0.08\n",
      "9 0.09\n",
      "10 0.1\n",
      "11 0.11\n",
      "12 0.12\n",
      "13 0.13\n",
      "14 0.14\n",
      "15 0.15\n",
      "16 0.16\n",
      "17 0.17\n",
      "18 0.18\n",
      "19 0.19\n",
      "20 0.2\n",
      "21 0.21\n",
      "22 0.22\n",
      "23 0.23\n",
      "24 0.24\n",
      "25 0.25\n",
      "26 0.26\n",
      "27 0.27\n",
      "28 0.28\n",
      "29 0.29\n",
      "30 0.3\n",
      "31 0.31\n",
      "32 0.32\n",
      "33 0.33\n",
      "34 0.34\n",
      "35 0.35000000000000003\n",
      "36 0.36\n",
      "37 0.37\n",
      "38 0.38\n",
      "39 0.39\n",
      "40 0.4\n",
      "41 0.41000000000000003\n",
      "42 0.42\n",
      "43 0.43\n",
      "44 0.44\n",
      "45 0.45\n",
      "46 0.46\n",
      "47 0.47000000000000003\n",
      "48 0.48\n",
      "49 0.49\n",
      "50 0.5\n",
      "51 0.51\n",
      "52 0.52\n",
      "53 0.53\n",
      "54 0.54\n",
      "55 0.55\n",
      "56 0.56\n",
      "57 0.5700000000000001\n",
      "58 0.58\n",
      "59 0.59\n",
      "60 0.6\n",
      "61 0.61\n",
      "62 0.62\n",
      "63 0.63\n",
      "64 0.64\n",
      "65 0.65\n",
      "66 0.66\n",
      "67 0.67\n",
      "68 0.68\n",
      "69 0.6900000000000001\n",
      "70 0.7000000000000001\n",
      "71 0.71\n",
      "72 0.72\n",
      "73 0.73\n",
      "74 0.74\n",
      "75 0.75\n",
      "76 0.76\n",
      "77 0.77\n",
      "78 0.78\n",
      "79 0.79\n",
      "80 0.8\n",
      "81 0.81\n",
      "82 0.8200000000000001\n",
      "83 0.8300000000000001\n",
      "84 0.84\n",
      "85 0.85\n",
      "86 0.86\n",
      "87 0.87\n",
      "88 0.88\n",
      "89 0.89\n",
      "90 0.9\n",
      "91 0.91\n",
      "92 0.92\n",
      "93 0.93\n",
      "94 0.9400000000000001\n",
      "95 0.9500000000000001\n",
      "96 0.96\n",
      "97 0.97\n",
      "98 0.98\n",
      "99 0.99\n",
      "100 1.0\n"
     ]
    }
   ],
   "source": [
    "thresholds = []\n",
    "accuracies = []\n",
    "precisions = []\n",
    "recalls = []\n",
    "for idx, threshold in enumerate(np.arange(0.0, 1.01, 0.01)):\n",
    "    print(idx, threshold)\n",
    "    retrieved = df[df['FUZZY_SCORE'] >= threshold].shape[0]\n",
    "    relevant = df[df['GROUND_TRUTH']].shape[0]\n",
    "    relevant_and_retrieved = df[(df['GROUND_TRUTH']) & (df['FUZZY_SCORE'] >= threshold)].shape[0]\n",
    "    non_relevant_and_non_retrieved = df[(-df['GROUND_TRUTH']) & (df['FUZZY_SCORE'] < threshold)].shape[0]\n",
    "\n",
    "    accuracy = (relevant_and_retrieved + non_relevant_and_non_retrieved) / df.shape[0]\n",
    "    precision = relevant_and_retrieved / retrieved\n",
    "    recall = relevant_and_retrieved / relevant\n",
    "    \n",
    "    thresholds.append(threshold)\n",
    "    accuracies.append(accuracy)\n",
    "    precisions.append(precision)\n",
    "    recalls.append(recall)\n"
   ]
  },
  {
   "cell_type": "code",
   "execution_count": 105,
   "metadata": {},
   "outputs": [
    {
     "data": {
      "text/plain": [
       "Text(0,0.5,'Accuracy')"
      ]
     },
     "execution_count": 105,
     "metadata": {},
     "output_type": "execute_result"
    },
    {
     "data": {
      "image/png": "[encoded data removed]",
      "text/plain": [
       "<Figure size 432x288 with 1 Axes>"
      ]
     },
     "metadata": {},
     "output_type": "display_data"
    }
   ],
   "source": [
    "plot(thresholds, accuracies)\n",
    "xlim([0,1.1])\n",
    "ylim([0,1.1])\n",
    "xlabel('Threshold')\n",
    "ylabel('Accuracy')"
   ]
  },
  {
   "cell_type": "code",
   "execution_count": 106,
   "metadata": {},
   "outputs": [
    {
     "data": {
      "text/plain": [
       "Text(0,0.5,'Precision')"
      ]
     },
     "execution_count": 106,
     "metadata": {},
     "output_type": "execute_result"
    },
    {
     "data": {
      "image/png": "[encoded data removed]",
      "text/plain": [
       "<Figure size 432x288 with 1 Axes>"
      ]
     },
     "metadata": {},
     "output_type": "display_data"
    }
   ],
   "source": [
    "plot(thresholds, precisions)\n",
    "xlim([0,1.1])\n",
    "ylim([0,1.1])\n",
    "xlabel('Threshold')\n",
    "ylabel('Precision')"
   ]
  },
  {
   "cell_type": "code",
   "execution_count": 107,
   "metadata": {},
   "outputs": [
    {
     "data": {
      "text/plain": [
       "Text(0,0.5,'Recall')"
      ]
     },
     "execution_count": 107,
     "metadata": {},
     "output_type": "execute_result"
    },
    {
     "data": {
      "image/png": "[encoded data removed]",
      "text/plain": [
       "<Figure size 432x288 with 1 Axes>"
      ]
     },
     "metadata": {},
     "output_type": "display_data"
    }
   ],
   "source": [
    "plot(thresholds, recalls)\n",
    "xlim([0,1.1])\n",
    "ylim([0,1.1])\n",
    "xlabel('Threshold')\n",
    "ylabel('Recall')"
   ]
  },
  {
   "cell_type": "code",
   "execution_count": 118,
   "metadata": {},
   "outputs": [
    {
     "name": "stdout",
     "output_type": "stream",
     "text": [
      "0.013861198080760345\n",
      "0.0004646649827845262\n",
      "0.9977678571428571\n"
     ]
    }
   ],
   "source": [
    "print(accuracies[75])\n",
    "print(precisions[75])\n",
    "print(recalls[75])"
   ]
  },
  {
   "cell_type": "code",
   "execution_count": 117,
   "metadata": {},
   "outputs": [
    {
     "name": "stdout",
     "output_type": "stream",
     "text": [
      "0.9998574436174124\n",
      "1.0\n",
      "0.6897321428571429\n"
     ]
    }
   ],
   "source": [
    "print(accuracies[100])\n",
    "print(precisions[100])\n",
    "print(recalls[100])"
   ]
  },
  {
   "cell_type": "code",
   "execution_count": 119,
   "metadata": {},
   "outputs": [
    {
     "name": "stdout",
     "output_type": "stream",
     "text": [
      "0.9999739501286494\n",
      "0.989800649049606\n",
      "0.953125\n"
     ]
    }
   ],
   "source": [
    "print(accuracies[99])\n",
    "print(precisions[99])\n",
    "print(recalls[99])"
   ]
  }
 ],
 "metadata": {
  "kernelspec": {
   "display_name": "Python 3",
   "language": "python",
   "name": "python3"
  },
  "language_info": {
   "codemirror_mode": {
    "name": "ipython",
    "version": 3
   },
   "file_extension": ".py",
   "mimetype": "text/x-python",
   "name": "python",
   "nbconvert_exporter": "python",
   "pygments_lexer": "ipython3",
   "version": "3.6.5"
  }
 },
 "nbformat": 4,
 "nbformat_minor": 2
}
