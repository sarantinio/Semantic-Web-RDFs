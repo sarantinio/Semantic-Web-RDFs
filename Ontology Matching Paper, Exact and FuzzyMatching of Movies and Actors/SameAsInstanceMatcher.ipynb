{
 "cells": [
  {
   "cell_type": "code",
   "execution_count": 7,
   "metadata": {},
   "outputs": [],
   "source": [
    "### IMPORTS ###\n",
    "import rdflib\n",
    "import pickle\n",
    "import os\n",
    "import urllib.parse"
   ]
  },
  {
   "cell_type": "code",
   "execution_count": 8,
   "metadata": {},
   "outputs": [],
   "source": [
    "### SIMILARITY MEASURES ###\n",
    "\n",
    "def conjuction(first: set, second: set) -> set:\n",
    "    \"\"\"Compute the conjunctive set of the 2 collections.\"\"\"\n",
    "    return first.intersection(second)\n",
    "\n",
    "def disjunction(first: set, second: set) -> set:\n",
    "    \"\"\"Compute the disjunctive set of the 2 collections.\"\"\"\n",
    "    return first.union(second)\n",
    "def difference(first: set, second: set):\n",
    "    return first.difference(second)\n",
    "\n",
    "def compute_sim(first:set, second:set, sim_type: str) -> tuple:\n",
    "    \"\"\" Compute the similarity of 2 classes.\"\"\"\n",
    "    if sim_type == \"jaccard\":\n",
    "        conj = conjuction(first, second)\n",
    "        disj = disjunction(first, second)\n",
    "        f_diff = difference(first, second)\n",
    "        s_diff = difference(second, first)\n",
    "        sim = len(conj) / len(disj)\n",
    "    else:\n",
    "        raise Exception('Similarity measure not implemented: {}'.format(sim_type))\n",
    "\n",
    "    return sim, conj, disj, f_diff, s_diff"
   ]
  },
  {
   "cell_type": "code",
   "execution_count": 9,
   "metadata": {},
   "outputs": [],
   "source": [
    "### INSTANCE RETRIEVAL ###\n",
    "\n",
    "def lmdb_to_dbp_links(graph: rdflib.Graph, cls: str, unquote: bool):\n",
    "    \"\"\"Get all sameAs URIS from LMDB class to DBP links.\"\"\"\n",
    "    results = graph.query(\"\"\"\n",
    "            PREFIX lmdbm: <http://data.linkedmdb.org/resource/movie/>\n",
    "            PREFIX owl: <http://www.w3.org/2002/07/owl#>\n",
    "            SELECT ?obj WHERE {{\n",
    "                ?sub rdf:type lmdbm:{} .\n",
    "                ?sub owl:sameAs ?obj .\n",
    "                FILTER REGEX(STR(?obj), 'dbpedia.org') .\n",
    "            }}\"\"\".format(cls))\n",
    "    if unquote:\n",
    "        return list(map(lambda tup: urllib.parse.unquote(str(tup[0])), results))\n",
    "    else:\n",
    "        return list(map(lambda tup: str(tup[0]), results))\n",
    "\n",
    "def dbp_subjects(graph: rdflib.Graph, cls: str, unquote: bool):\n",
    "    \"\"\"Get all subject URIS for a DBPedia class\"\"\"\n",
    "    results = graph.query(\"\"\"\n",
    "                PREFIX dbo: <http://dbpedia.org/ontology/>\n",
    "                SELECT ?sub WHERE {{\n",
    "                    ?sub a dbo:{} .\n",
    "            }}\"\"\".format(cls))\n",
    "    if unquote:\n",
    "        return list(map(lambda tup: urllib.parse.unquote(str(tup[0])), results))\n",
    "    else:\n",
    "        return list(map(lambda tup: str(tup[0]), results))"
   ]
  },
  {
   "cell_type": "code",
   "execution_count": 10,
   "metadata": {},
   "outputs": [],
   "source": [
    "### LOAD FILM GRAPHS ###\n",
    "lmdb_film_graph = pickle.load(open(os.path.join('Data', 'LMDB', 'FilmGraph.pkl'), 'rb'))\n",
    "dbp_film_graph = pickle.load(open(os.path.join(\"Data\", 'LodALot', 'DBPediaFilmGraph.pkl'), 'rb'))"
   ]
  },
  {
   "cell_type": "code",
   "execution_count": 11,
   "metadata": {},
   "outputs": [],
   "source": [
    "### GET FILM INSTANCES TO COMPARE ###\n",
    "lmdb_dbp_film_same_as = lmdb_to_dbp_links(lmdb_film_graph, 'film', True)\n",
    "dbp_film_subj = dbp_subjects(dbp_film_graph, 'Film', True) "
   ]
  },
  {
   "cell_type": "code",
   "execution_count": 12,
   "metadata": {
    "scrolled": false
   },
   "outputs": [
    {
     "name": "stdout",
     "output_type": "stream",
     "text": [
      "SIMILARITY:  0.030823180147241953\n",
      "CONJUNCTION:  9282\n",
      "DISJUNCTION:  301137\n",
      " LMDB \\ DBP:  1243\n",
      " DBP \\ LMDB:  290612\n"
     ]
    }
   ],
   "source": [
    "### COMPARE FILM INSTANCES ###\n",
    "sim_film, conj_film, disj_film, lmdb_dbp_film, dbp_lmdb_film = compute_sim(set(lmdb_dbp_film_same_as), set(dbp_film_subj), 'jaccard')\n",
    "print(' SIMILARITY: ', sim_film)\n",
    "print('CONJUNCTION: ', len(conj_film))\n",
    "print('DISJUNCTION: ', len(disj_film))\n",
    "print(' LMDB \\ DBP: ', len(lmdb_dbp_film))\n",
    "print(' DBP \\ LMDB: ', len(dbp_lmdb_film))"
   ]
  },
  {
   "cell_type": "code",
   "execution_count": 13,
   "metadata": {},
   "outputs": [],
   "source": [
    "### LOAD FILM GRAPHS ###\n",
    "lmdb_actor_graph = pickle.load(open(os.path.join('Data', 'LMDB', 'ActorGraph.pkl'), 'rb'))\n",
    "dbp_actor_graph = pickle.load(open(os.path.join(\"Data\", 'LodALot', 'DBPediaActorGraph.pkl'), 'rb'))"
   ]
  },
  {
   "cell_type": "code",
   "execution_count": 14,
   "metadata": {},
   "outputs": [],
   "source": [
    "### GET ACTOR INSTANCES TO COMPARE ###\n",
    "lmdb_dbp_actor_same_as = lmdb_to_dbp_links(lmdb_actor_graph, 'actor', True)\n",
    "dbp_actor_subj = dbp_subjects(dbp_actor_graph, 'Actor', True)"
   ]
  },
  {
   "cell_type": "code",
   "execution_count": 15,
   "metadata": {
    "scrolled": true
   },
   "outputs": [
    {
     "name": "stdout",
     "output_type": "stream",
     "text": [
      "SIMILARITY:  0.008031509140735292\n",
      "CONJUNCTION:  1354\n",
      "DISJUNCTION:  168586\n",
      " LMDB \\ DBP:  560\n",
      " DBP \\ LMDB:  166672\n"
     ]
    }
   ],
   "source": [
    "### COMPARE ACTOR INSTANCES ###\n",
    "sim_actor, conj_actor, disj_actor, lmdb_dbp_actor, dbp_lmdb_actor = compute_sim(set(lmdb_dbp_actor_same_as), set(dbp_actor_subj), 'jaccard')\n",
    "print('SIMILARITY: ', sim_actor)\n",
    "print('CONJUNCTION: ', len(conj_actor))\n",
    "print('DISJUNCTION: ', len(disj_actor))\n",
    "print(' LMDB \\ DBP: ', len(lmdb_dbp_actor))\n",
    "print(' DBP \\ LMDB: ', len(dbp_lmdb_actor))"
   ]
  },
  {
   "cell_type": "code",
   "execution_count": null,
   "metadata": {},
   "outputs": [],
   "source": []
  }
 ],
 "metadata": {
  "kernelspec": {
   "display_name": "Python 3",
   "language": "python",
   "name": "python3"
  },
  "language_info": {
   "codemirror_mode": {
    "name": "ipython",
    "version": 3
   },
   "file_extension": ".py",
   "mimetype": "text/x-python",
   "name": "python",
   "nbconvert_exporter": "python",
   "pygments_lexer": "ipython3",
   "version": "3.6.5"
  }
 },
 "nbformat": 4,
 "nbformat_minor": 1
}
