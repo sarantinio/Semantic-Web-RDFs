{
 "cells": [
  {
   "cell_type": "code",
   "execution_count": 1,
   "metadata": {},
   "outputs": [
    {
     "name": "stdout",
     "output_type": "stream",
     "text": [
      "Populating the interactive namespace from numpy and matplotlib\n"
     ]
    }
   ],
   "source": [
    "### IMPORTS ###\n",
    "import csv\n",
    "import os\n",
    "import pandas as pd\n",
    "import itertools\n",
    "\n",
    "% pylab inline"
   ]
  },
  {
   "cell_type": "markdown",
   "metadata": {},
   "source": [
    "# DATA INGESTION"
   ]
  },
  {
   "cell_type": "code",
   "execution_count": 2,
   "metadata": {},
   "outputs": [],
   "source": [
    "### READ CSVS ###\n",
    "lmdb = pd.read_csv(os.path.join('Data', 'PropertyMatching', 'LMDBProperties.csv'))\n",
    "dbp = pd.read_csv(os.path.join('Data', 'PropertyMatching', 'DBPProperties.csv')).fillna(-1)"
   ]
  },
  {
   "cell_type": "code",
   "execution_count": 3,
   "metadata": {},
   "outputs": [
    {
     "data": {
      "text/html": [
       "<div>\n",
       "<style scoped>\n",
       "    .dataframe tbody tr th:only-of-type {\n",
       "        vertical-align: middle;\n",
       "    }\n",
       "\n",
       "    .dataframe tbody tr th {\n",
       "        vertical-align: top;\n",
       "    }\n",
       "\n",
       "    .dataframe thead th {\n",
       "        text-align: right;\n",
       "    }\n",
       "</style>\n",
       "<table border=\"1\" class=\"dataframe\">\n",
       "  <thead>\n",
       "    <tr style=\"text-align: right;\">\n",
       "      <th></th>\n",
       "      <th>LMDB_URI</th>\n",
       "      <th>LMDB_DB_link</th>\n",
       "      <th>LMDB_title</th>\n",
       "      <th>LMDB_runtime</th>\n",
       "    </tr>\n",
       "  </thead>\n",
       "  <tbody>\n",
       "    <tr>\n",
       "      <th>0</th>\n",
       "      <td>http://data.linkedmdb.org/resource/film/11892</td>\n",
       "      <td>http://dbpedia.org/resource/Itlu_Sravani_Subra...</td>\n",
       "      <td>Itlu Sravani Subramanyam</td>\n",
       "      <td>-1</td>\n",
       "    </tr>\n",
       "    <tr>\n",
       "      <th>1</th>\n",
       "      <td>http://data.linkedmdb.org/resource/film/1788</td>\n",
       "      <td>http://dbpedia.org/resource/U.F.O._(film)</td>\n",
       "      <td>U.F.O.</td>\n",
       "      <td>79</td>\n",
       "    </tr>\n",
       "    <tr>\n",
       "      <th>2</th>\n",
       "      <td>http://data.linkedmdb.org/resource/film/24385</td>\n",
       "      <td>http://dbpedia.org/resource/The_Bodyguard</td>\n",
       "      <td>Bodyguard</td>\n",
       "      <td>-1</td>\n",
       "    </tr>\n",
       "    <tr>\n",
       "      <th>3</th>\n",
       "      <td>http://data.linkedmdb.org/resource/film/4517</td>\n",
       "      <td>http://dbpedia.org/resource/The_Devil's_Rain</td>\n",
       "      <td>The Devil's Rain</td>\n",
       "      <td>86</td>\n",
       "    </tr>\n",
       "    <tr>\n",
       "      <th>4</th>\n",
       "      <td>http://data.linkedmdb.org/resource/film/18919</td>\n",
       "      <td>http://dbpedia.org/resource/Tide_of_Empire</td>\n",
       "      <td>Tide of Empire</td>\n",
       "      <td>-1</td>\n",
       "    </tr>\n",
       "  </tbody>\n",
       "</table>\n",
       "</div>"
      ],
      "text/plain": [
       "                                        LMDB_URI  \\\n",
       "0  http://data.linkedmdb.org/resource/film/11892   \n",
       "1   http://data.linkedmdb.org/resource/film/1788   \n",
       "2  http://data.linkedmdb.org/resource/film/24385   \n",
       "3   http://data.linkedmdb.org/resource/film/4517   \n",
       "4  http://data.linkedmdb.org/resource/film/18919   \n",
       "\n",
       "                                        LMDB_DB_link  \\\n",
       "0  http://dbpedia.org/resource/Itlu_Sravani_Subra...   \n",
       "1          http://dbpedia.org/resource/U.F.O._(film)   \n",
       "2          http://dbpedia.org/resource/The_Bodyguard   \n",
       "3       http://dbpedia.org/resource/The_Devil's_Rain   \n",
       "4         http://dbpedia.org/resource/Tide_of_Empire   \n",
       "\n",
       "                 LMDB_title  LMDB_runtime  \n",
       "0  Itlu Sravani Subramanyam            -1  \n",
       "1                    U.F.O.            79  \n",
       "2                 Bodyguard            -1  \n",
       "3          The Devil's Rain            86  \n",
       "4            Tide of Empire            -1  "
      ]
     },
     "execution_count": 3,
     "metadata": {},
     "output_type": "execute_result"
    }
   ],
   "source": [
    "### CHECK OUT MY LMDB DATA ###\n",
    "lmdb.head()"
   ]
  },
  {
   "cell_type": "code",
   "execution_count": 4,
   "metadata": {},
   "outputs": [
    {
     "name": "stdout",
     "output_type": "stream",
     "text": [
      "                MISSING RUNTIME VALUES:  3994\n",
      "MISSING RUNTIME VALUES TO DATASET SIZE:  0.42\n"
     ]
    }
   ],
   "source": [
    "### THE NUMBER OF MISSING RUNTIME VALUES IS QUITE HIGH ###\n",
    "print(\"                MISSING RUNTIME VALUES: \", len(lmdb[lmdb['LMDB_runtime'] == -1]))\n",
    "print(\"MISSING RUNTIME VALUES TO DATASET SIZE: \", round(len(lmdb[lmdb['LMDB_runtime'] == -1]) / len(lmdb), 2))"
   ]
  },
  {
   "cell_type": "code",
   "execution_count": 5,
   "metadata": {},
   "outputs": [
    {
     "data": {
      "text/plain": [
       "<matplotlib.axes._subplots.AxesSubplot at 0x10b74fc88>"
      ]
     },
     "execution_count": 5,
     "metadata": {},
     "output_type": "execute_result"
    },
    {
     "data": {
      "image/png": "[encoded data removed]",
      "text/plain": [
       "<Figure size 432x288 with 1 Axes>"
      ]
     },
     "metadata": {},
     "output_type": "display_data"
    }
   ],
   "source": [
    "### THERE A WHOLE LOT OF RUNTIME VALUES MISSING, HENCE THE TALL TOWER TO THE LEFT. EVERYTHING ELSE SEEMS \n",
    "### RATHER NORMALLY DISTRIBUTED WITH LOW VARIANCE.\n",
    "lmdb['LMDB_runtime'].hist(bins = 30)"
   ]
  },
  {
   "cell_type": "code",
   "execution_count": 6,
   "metadata": {},
   "outputs": [
    {
     "data": {
      "text/html": [
       "<div>\n",
       "<style scoped>\n",
       "    .dataframe tbody tr th:only-of-type {\n",
       "        vertical-align: middle;\n",
       "    }\n",
       "\n",
       "    .dataframe tbody tr th {\n",
       "        vertical-align: top;\n",
       "    }\n",
       "\n",
       "    .dataframe thead th {\n",
       "        text-align: right;\n",
       "    }\n",
       "</style>\n",
       "<table border=\"1\" class=\"dataframe\">\n",
       "  <thead>\n",
       "    <tr style=\"text-align: right;\">\n",
       "      <th></th>\n",
       "      <th>LMDB_URI</th>\n",
       "      <th>LMDB_DB_link</th>\n",
       "      <th>LMDB_title</th>\n",
       "      <th>LMDB_runtime</th>\n",
       "    </tr>\n",
       "  </thead>\n",
       "  <tbody>\n",
       "    <tr>\n",
       "      <th>181</th>\n",
       "      <td>http://data.linkedmdb.org/resource/film/16878</td>\n",
       "      <td>http://dbpedia.org/resource/Once_an_Eagle</td>\n",
       "      <td>Once an Eagle</td>\n",
       "      <td>540</td>\n",
       "    </tr>\n",
       "    <tr>\n",
       "      <th>1938</th>\n",
       "      <td>http://data.linkedmdb.org/resource/film/1099</td>\n",
       "      <td>http://dbpedia.org/resource/Dune_(film)</td>\n",
       "      <td>Dune</td>\n",
       "      <td>265</td>\n",
       "    </tr>\n",
       "    <tr>\n",
       "      <th>2670</th>\n",
       "      <td>http://data.linkedmdb.org/resource/film/8431</td>\n",
       "      <td>http://dbpedia.org/resource/Hezar_Dastan</td>\n",
       "      <td>Hezar Dastan</td>\n",
       "      <td>720</td>\n",
       "    </tr>\n",
       "    <tr>\n",
       "      <th>4569</th>\n",
       "      <td>http://data.linkedmdb.org/resource/film/1912</td>\n",
       "      <td>http://dbpedia.org/resource/L'amour_fou</td>\n",
       "      <td>L'Amour fou</td>\n",
       "      <td>252</td>\n",
       "    </tr>\n",
       "    <tr>\n",
       "      <th>4720</th>\n",
       "      <td>http://data.linkedmdb.org/resource/film/2943</td>\n",
       "      <td>http://dbpedia.org/resource/The_Deluge_(film)</td>\n",
       "      <td>The Deluge</td>\n",
       "      <td>315</td>\n",
       "    </tr>\n",
       "    <tr>\n",
       "      <th>6697</th>\n",
       "      <td>http://data.linkedmdb.org/resource/film/9078</td>\n",
       "      <td>http://dbpedia.org/resource/Tamas_(film)</td>\n",
       "      <td>Tamas</td>\n",
       "      <td>297</td>\n",
       "    </tr>\n",
       "    <tr>\n",
       "      <th>6743</th>\n",
       "      <td>http://data.linkedmdb.org/resource/film/5404</td>\n",
       "      <td>http://dbpedia.org/resource/October_1970_(film)</td>\n",
       "      <td>October 1970</td>\n",
       "      <td>480</td>\n",
       "    </tr>\n",
       "    <tr>\n",
       "      <th>8009</th>\n",
       "      <td>http://data.linkedmdb.org/resource/film/2305</td>\n",
       "      <td>http://dbpedia.org/resource/Little_Dorrit_(film)</td>\n",
       "      <td>Little Dorrit</td>\n",
       "      <td>360</td>\n",
       "    </tr>\n",
       "    <tr>\n",
       "      <th>8217</th>\n",
       "      <td>http://data.linkedmdb.org/resource/film/7485</td>\n",
       "      <td>http://dbpedia.org/resource/Sleep_(film)</td>\n",
       "      <td>Sleep</td>\n",
       "      <td>321</td>\n",
       "    </tr>\n",
       "  </tbody>\n",
       "</table>\n",
       "</div>"
      ],
      "text/plain": [
       "                                           LMDB_URI  \\\n",
       "181   http://data.linkedmdb.org/resource/film/16878   \n",
       "1938   http://data.linkedmdb.org/resource/film/1099   \n",
       "2670   http://data.linkedmdb.org/resource/film/8431   \n",
       "4569   http://data.linkedmdb.org/resource/film/1912   \n",
       "4720   http://data.linkedmdb.org/resource/film/2943   \n",
       "6697   http://data.linkedmdb.org/resource/film/9078   \n",
       "6743   http://data.linkedmdb.org/resource/film/5404   \n",
       "8009   http://data.linkedmdb.org/resource/film/2305   \n",
       "8217   http://data.linkedmdb.org/resource/film/7485   \n",
       "\n",
       "                                          LMDB_DB_link     LMDB_title  \\\n",
       "181          http://dbpedia.org/resource/Once_an_Eagle  Once an Eagle   \n",
       "1938           http://dbpedia.org/resource/Dune_(film)           Dune   \n",
       "2670          http://dbpedia.org/resource/Hezar_Dastan   Hezar Dastan   \n",
       "4569           http://dbpedia.org/resource/L'amour_fou    L'Amour fou   \n",
       "4720     http://dbpedia.org/resource/The_Deluge_(film)     The Deluge   \n",
       "6697          http://dbpedia.org/resource/Tamas_(film)          Tamas   \n",
       "6743   http://dbpedia.org/resource/October_1970_(film)   October 1970   \n",
       "8009  http://dbpedia.org/resource/Little_Dorrit_(film)  Little Dorrit   \n",
       "8217          http://dbpedia.org/resource/Sleep_(film)          Sleep   \n",
       "\n",
       "      LMDB_runtime  \n",
       "181            540  \n",
       "1938           265  \n",
       "2670           720  \n",
       "4569           252  \n",
       "4720           315  \n",
       "6697           297  \n",
       "6743           480  \n",
       "8009           360  \n",
       "8217           321  "
      ]
     },
     "execution_count": 6,
     "metadata": {},
     "output_type": "execute_result"
    },
    {
     "data": {
      "image/png": "[encoded data removed]",
      "text/plain": [
       "<Figure size 432x288 with 1 Axes>"
      ]
     },
     "metadata": {},
     "output_type": "display_data"
    }
   ],
   "source": [
    "### THERE'S A BUNCH OF OUTLIERS THAT WE SHOULD TAKE A LOOK AT ###\n",
    "### LOOKS LIKE SOME ARE NOT EVEN MOVIES\n",
    "### SOME ARE TV SERIES AND THE RUNTIME IS THE SUM OF ALL EPISODES\n",
    "### SOME ARE JUST LONG ASS MOVIES \n",
    "lmdb.boxplot()\n",
    "lmdb[lmdb['LMDB_runtime'] > 250]"
   ]
  },
  {
   "cell_type": "code",
   "execution_count": 7,
   "metadata": {},
   "outputs": [
    {
     "data": {
      "text/html": [
       "<div>\n",
       "<style scoped>\n",
       "    .dataframe tbody tr th:only-of-type {\n",
       "        vertical-align: middle;\n",
       "    }\n",
       "\n",
       "    .dataframe tbody tr th {\n",
       "        vertical-align: top;\n",
       "    }\n",
       "\n",
       "    .dataframe thead th {\n",
       "        text-align: right;\n",
       "    }\n",
       "</style>\n",
       "<table border=\"1\" class=\"dataframe\">\n",
       "  <thead>\n",
       "    <tr style=\"text-align: right;\">\n",
       "      <th></th>\n",
       "      <th>DB_URI</th>\n",
       "      <th>DB_label</th>\n",
       "      <th>DB_title</th>\n",
       "      <th>DB_runtime</th>\n",
       "    </tr>\n",
       "  </thead>\n",
       "  <tbody>\n",
       "    <tr>\n",
       "      <th>0</th>\n",
       "      <td>http://dbpedia.org/resource/The_City_Slicker</td>\n",
       "      <td>The City Slicker</td>\n",
       "      <td>The City Slicker</td>\n",
       "      <td>12.0</td>\n",
       "    </tr>\n",
       "    <tr>\n",
       "      <th>1</th>\n",
       "      <td>http://dbpedia.org/resource/Dangerously_Close</td>\n",
       "      <td>Dangerously Close</td>\n",
       "      <td>Dangerously Close</td>\n",
       "      <td>95.0</td>\n",
       "    </tr>\n",
       "    <tr>\n",
       "      <th>2</th>\n",
       "      <td>http://dbpedia.org/resource/Camp_(film)</td>\n",
       "      <td>Camp (film)</td>\n",
       "      <td>Camp</td>\n",
       "      <td>111.0</td>\n",
       "    </tr>\n",
       "    <tr>\n",
       "      <th>3</th>\n",
       "      <td>http://dbpedia.org/resource/A_Moment_of_Romance</td>\n",
       "      <td>A Moment of Romance</td>\n",
       "      <td>A Moment of Romance</td>\n",
       "      <td>88.0</td>\n",
       "    </tr>\n",
       "    <tr>\n",
       "      <th>4</th>\n",
       "      <td>http://dbpedia.org/resource/Mojave_Phone_Booth...</td>\n",
       "      <td>Mojave Phone Booth (film)</td>\n",
       "      <td>Mojave Phone Booth</td>\n",
       "      <td>88.0</td>\n",
       "    </tr>\n",
       "  </tbody>\n",
       "</table>\n",
       "</div>"
      ],
      "text/plain": [
       "                                              DB_URI  \\\n",
       "0       http://dbpedia.org/resource/The_City_Slicker   \n",
       "1      http://dbpedia.org/resource/Dangerously_Close   \n",
       "2            http://dbpedia.org/resource/Camp_(film)   \n",
       "3    http://dbpedia.org/resource/A_Moment_of_Romance   \n",
       "4  http://dbpedia.org/resource/Mojave_Phone_Booth...   \n",
       "\n",
       "                    DB_label             DB_title  DB_runtime  \n",
       "0           The City Slicker     The City Slicker        12.0  \n",
       "1          Dangerously Close    Dangerously Close        95.0  \n",
       "2                Camp (film)                 Camp       111.0  \n",
       "3        A Moment of Romance  A Moment of Romance        88.0  \n",
       "4  Mojave Phone Booth (film)   Mojave Phone Booth        88.0  "
      ]
     },
     "execution_count": 7,
     "metadata": {},
     "output_type": "execute_result"
    }
   ],
   "source": [
    "### CHECK OUT MY DBPEDIA DATA ###\n",
    "dbp.head()"
   ]
  },
  {
   "cell_type": "code",
   "execution_count": 8,
   "metadata": {},
   "outputs": [
    {
     "data": {
      "text/plain": [
       "<matplotlib.axes._subplots.AxesSubplot at 0x10b8cfb00>"
      ]
     },
     "execution_count": 8,
     "metadata": {},
     "output_type": "execute_result"
    },
    {
     "data": {
      "image/png": "[encoded data removed]",
      "text/plain": [
       "<Figure size 432x288 with 1 Axes>"
      ]
     },
     "metadata": {},
     "output_type": "display_data"
    }
   ],
   "source": [
    "### RUNTIME VALUES LOOK VERY SPARE ###\n",
    "dbp['DB_runtime'].hist()"
   ]
  },
  {
   "cell_type": "code",
   "execution_count": 9,
   "metadata": {},
   "outputs": [
    {
     "data": {
      "text/plain": [
       "851"
      ]
     },
     "execution_count": 9,
     "metadata": {},
     "output_type": "execute_result"
    }
   ],
   "source": [
    "### THERE'S 851 MISSING RUNTIME VALUES. WE WILL REMVOE THOSE ###\n",
    "dbp[dbp['DB_runtime'] == -1].shape[0]"
   ]
  },
  {
   "cell_type": "markdown",
   "metadata": {},
   "source": [
    "# DATA CLEANING"
   ]
  },
  {
   "cell_type": "code",
   "execution_count": 10,
   "metadata": {},
   "outputs": [],
   "source": [
    "cleaned_lmdb = lmdb[lmdb['LMDB_runtime'] > -1]\n",
    "assert lmdb.shape[0] == cleaned_lmdb.shape[0] + lmdb[lmdb['LMDB_runtime'] == -1].shape[0]"
   ]
  },
  {
   "cell_type": "code",
   "execution_count": 11,
   "metadata": {
    "scrolled": false
   },
   "outputs": [
    {
     "data": {
      "text/plain": [
       "<matplotlib.axes._subplots.AxesSubplot at 0x10ebcad30>"
      ]
     },
     "execution_count": 11,
     "metadata": {},
     "output_type": "execute_result"
    },
    {
     "data": {
      "image/png": "[encoded data removed]",
      "text/plain": [
       "<Figure size 432x288 with 1 Axes>"
      ]
     },
     "metadata": {},
     "output_type": "display_data"
    }
   ],
   "source": [
    "### LOOKS A BIT BETTER NOW. ###\n",
    "cleaned_lmdb['LMDB_runtime'].hist(bins = 30)"
   ]
  },
  {
   "cell_type": "code",
   "execution_count": 12,
   "metadata": {},
   "outputs": [
    {
     "data": {
      "text/plain": [
       "<matplotlib.axes._subplots.AxesSubplot at 0x10b7b99b0>"
      ]
     },
     "execution_count": 12,
     "metadata": {},
     "output_type": "execute_result"
    },
    {
     "data": {
      "image/png": "[encoded data removed]",
      "text/plain": [
       "<Figure size 432x288 with 1 Axes>"
      ]
     },
     "metadata": {},
     "output_type": "display_data"
    }
   ],
   "source": [
    "cleaned_lmdb.boxplot()"
   ]
  },
  {
   "cell_type": "code",
   "execution_count": 13,
   "metadata": {},
   "outputs": [],
   "source": [
    "### LET'S REMOVE ALL THE MISSING VALUES ###\n",
    "cleaned_dbp = dbp[dbp['DB_runtime'] > -1]"
   ]
  },
  {
   "cell_type": "code",
   "execution_count": 14,
   "metadata": {},
   "outputs": [
    {
     "data": {
      "text/plain": [
       "<matplotlib.axes._subplots.AxesSubplot at 0x10ed79668>"
      ]
     },
     "execution_count": 14,
     "metadata": {},
     "output_type": "execute_result"
    },
    {
     "data": {
      "image/png": "[encoded data removed]",
      "text/plain": [
       "<Figure size 432x288 with 1 Axes>"
      ]
     },
     "metadata": {},
     "output_type": "display_data"
    }
   ],
   "source": [
    "### STILL LOOK LIKE CRAP BECAUSE WE HAVE SOME MASSIVE OUTLIERS ###\n",
    "cleaned_dbp['DB_runtime'].hist(bins = 30)"
   ]
  },
  {
   "cell_type": "code",
   "execution_count": 15,
   "metadata": {},
   "outputs": [
    {
     "data": {
      "text/plain": [
       "<matplotlib.axes._subplots.AxesSubplot at 0x10eb31be0>"
      ]
     },
     "execution_count": 15,
     "metadata": {},
     "output_type": "execute_result"
    },
    {
     "data": {
      "image/png": "[encoded data removed]",
      "text/plain": [
       "<Figure size 432x288 with 1 Axes>"
      ]
     },
     "metadata": {},
     "output_type": "display_data"
    }
   ],
   "source": [
    "### MY BEST GUESS IS THAT THE HUGE VALUES ARE THERE BECAUSE \n",
    "cleaned_dbp.boxplot()"
   ]
  },
  {
   "cell_type": "code",
   "execution_count": 16,
   "metadata": {},
   "outputs": [
    {
     "data": {
      "text/html": [
       "<div>\n",
       "<style scoped>\n",
       "    .dataframe tbody tr th:only-of-type {\n",
       "        vertical-align: middle;\n",
       "    }\n",
       "\n",
       "    .dataframe tbody tr th {\n",
       "        vertical-align: top;\n",
       "    }\n",
       "\n",
       "    .dataframe thead th {\n",
       "        text-align: right;\n",
       "    }\n",
       "</style>\n",
       "<table border=\"1\" class=\"dataframe\">\n",
       "  <thead>\n",
       "    <tr style=\"text-align: right;\">\n",
       "      <th></th>\n",
       "      <th>DB_URI</th>\n",
       "      <th>DB_label</th>\n",
       "      <th>DB_title</th>\n",
       "      <th>DB_runtime</th>\n",
       "    </tr>\n",
       "  </thead>\n",
       "  <tbody>\n",
       "    <tr>\n",
       "      <th>375</th>\n",
       "      <td>http://dbpedia.org/resource/The_Trail_of_'98</td>\n",
       "      <td>The Trail of '98</td>\n",
       "      <td>The Trail of '98</td>\n",
       "      <td>2681.94</td>\n",
       "    </tr>\n",
       "    <tr>\n",
       "      <th>928</th>\n",
       "      <td>http://dbpedia.org/resource/Vijeta</td>\n",
       "      <td>Vijeta</td>\n",
       "      <td>Vijeta</td>\n",
       "      <td>4909.86</td>\n",
       "    </tr>\n",
       "    <tr>\n",
       "      <th>1150</th>\n",
       "      <td>http://dbpedia.org/resource/Disraeli_(film)</td>\n",
       "      <td>Disraeli (film)</td>\n",
       "      <td>Disraeli</td>\n",
       "      <td>2451.81</td>\n",
       "    </tr>\n",
       "    <tr>\n",
       "      <th>1241</th>\n",
       "      <td>http://dbpedia.org/resource/Coquette_(film)</td>\n",
       "      <td>Coquette (film)</td>\n",
       "      <td>Coquette</td>\n",
       "      <td>2131.00</td>\n",
       "    </tr>\n",
       "    <tr>\n",
       "      <th>1382</th>\n",
       "      <td>http://dbpedia.org/resource/I_Am_the_Law_(film)</td>\n",
       "      <td>I Am the Law (film)</td>\n",
       "      <td>I Am the Law</td>\n",
       "      <td>2072.64</td>\n",
       "    </tr>\n",
       "    <tr>\n",
       "      <th>1489</th>\n",
       "      <td>http://dbpedia.org/resource/Aloha_Summer</td>\n",
       "      <td>Aloha Summer</td>\n",
       "      <td>Aloha Summer</td>\n",
       "      <td>5880.00</td>\n",
       "    </tr>\n",
       "    <tr>\n",
       "      <th>1768</th>\n",
       "      <td>http://dbpedia.org/resource/The_Marriage_Circle</td>\n",
       "      <td>The Marriage Circle</td>\n",
       "      <td>The Marriage Circle</td>\n",
       "      <td>2499.00</td>\n",
       "    </tr>\n",
       "    <tr>\n",
       "      <th>1836</th>\n",
       "      <td>http://dbpedia.org/resource/Mystery_Date</td>\n",
       "      <td>Mystery Date</td>\n",
       "      <td>Mystery Date</td>\n",
       "      <td>5820.00</td>\n",
       "    </tr>\n",
       "    <tr>\n",
       "      <th>1848</th>\n",
       "      <td>http://dbpedia.org/resource/Against_All_Flags</td>\n",
       "      <td>Against All Flags</td>\n",
       "      <td>Against All Flags</td>\n",
       "      <td>4980.00</td>\n",
       "    </tr>\n",
       "    <tr>\n",
       "      <th>2874</th>\n",
       "      <td>http://dbpedia.org/resource/The_Adventures_of_...</td>\n",
       "      <td>The Adventures of Hajji Baba</td>\n",
       "      <td>The Adventures of Hajji Baba</td>\n",
       "      <td>5640.00</td>\n",
       "    </tr>\n",
       "    <tr>\n",
       "      <th>3204</th>\n",
       "      <td>http://dbpedia.org/resource/Imagine_Me_&amp;_You</td>\n",
       "      <td>Imagine Me &amp; You</td>\n",
       "      <td>Imagine Me &amp; You</td>\n",
       "      <td>5640.00</td>\n",
       "    </tr>\n",
       "    <tr>\n",
       "      <th>3281</th>\n",
       "      <td>http://dbpedia.org/resource/The_Sandwich_Man</td>\n",
       "      <td>The Sandwich Man</td>\n",
       "      <td>The Sandwich Man</td>\n",
       "      <td>5700.00</td>\n",
       "    </tr>\n",
       "    <tr>\n",
       "      <th>3350</th>\n",
       "      <td>http://dbpedia.org/resource/Twentieth_Century_...</td>\n",
       "      <td>Twentieth Century (film)</td>\n",
       "      <td>Twentieth Century</td>\n",
       "      <td>2496.01</td>\n",
       "    </tr>\n",
       "    <tr>\n",
       "      <th>3431</th>\n",
       "      <td>http://dbpedia.org/resource/But_Forever_in_My_...</td>\n",
       "      <td>But Forever in My Mind</td>\n",
       "      <td>But Forever in My Mind</td>\n",
       "      <td>5280.00</td>\n",
       "    </tr>\n",
       "  </tbody>\n",
       "</table>\n",
       "</div>"
      ],
      "text/plain": [
       "                                                 DB_URI  \\\n",
       "375        http://dbpedia.org/resource/The_Trail_of_'98   \n",
       "928                  http://dbpedia.org/resource/Vijeta   \n",
       "1150        http://dbpedia.org/resource/Disraeli_(film)   \n",
       "1241        http://dbpedia.org/resource/Coquette_(film)   \n",
       "1382    http://dbpedia.org/resource/I_Am_the_Law_(film)   \n",
       "1489           http://dbpedia.org/resource/Aloha_Summer   \n",
       "1768    http://dbpedia.org/resource/The_Marriage_Circle   \n",
       "1836           http://dbpedia.org/resource/Mystery_Date   \n",
       "1848      http://dbpedia.org/resource/Against_All_Flags   \n",
       "2874  http://dbpedia.org/resource/The_Adventures_of_...   \n",
       "3204       http://dbpedia.org/resource/Imagine_Me_&_You   \n",
       "3281       http://dbpedia.org/resource/The_Sandwich_Man   \n",
       "3350  http://dbpedia.org/resource/Twentieth_Century_...   \n",
       "3431  http://dbpedia.org/resource/But_Forever_in_My_...   \n",
       "\n",
       "                          DB_label                      DB_title  DB_runtime  \n",
       "375               The Trail of '98              The Trail of '98     2681.94  \n",
       "928                         Vijeta                        Vijeta     4909.86  \n",
       "1150               Disraeli (film)                      Disraeli     2451.81  \n",
       "1241               Coquette (film)                      Coquette     2131.00  \n",
       "1382           I Am the Law (film)                  I Am the Law     2072.64  \n",
       "1489                  Aloha Summer                  Aloha Summer     5880.00  \n",
       "1768           The Marriage Circle           The Marriage Circle     2499.00  \n",
       "1836                  Mystery Date                  Mystery Date     5820.00  \n",
       "1848             Against All Flags             Against All Flags     4980.00  \n",
       "2874  The Adventures of Hajji Baba  The Adventures of Hajji Baba     5640.00  \n",
       "3204              Imagine Me & You              Imagine Me & You     5640.00  \n",
       "3281              The Sandwich Man              The Sandwich Man     5700.00  \n",
       "3350      Twentieth Century (film)             Twentieth Century     2496.01  \n",
       "3431        But Forever in My Mind        But Forever in My Mind     5280.00  "
      ]
     },
     "execution_count": 16,
     "metadata": {},
     "output_type": "execute_result"
    }
   ],
   "source": [
    "### CHECKING A COUPLE OF THOSE MOVIES IT LOOKS LIKE THEY USE A WEIRD UNIT OF MEASURE\n",
    "### OR SOMETHING ELSE THAT I CANNOT FIGURE OUT. I WILL THESE AS THEY ARE.\n",
    "cleaned_dbp[cleaned_dbp['DB_runtime'] > 2000]"
   ]
  },
  {
   "cell_type": "code",
   "execution_count": 17,
   "metadata": {},
   "outputs": [
    {
     "data": {
      "text/html": [
       "<div>\n",
       "<style scoped>\n",
       "    .dataframe tbody tr th:only-of-type {\n",
       "        vertical-align: middle;\n",
       "    }\n",
       "\n",
       "    .dataframe tbody tr th {\n",
       "        vertical-align: top;\n",
       "    }\n",
       "\n",
       "    .dataframe thead th {\n",
       "        text-align: right;\n",
       "    }\n",
       "</style>\n",
       "<table border=\"1\" class=\"dataframe\">\n",
       "  <thead>\n",
       "    <tr style=\"text-align: right;\">\n",
       "      <th></th>\n",
       "      <th>DB_URI</th>\n",
       "      <th>DB_label</th>\n",
       "      <th>DB_title</th>\n",
       "      <th>DB_runtime</th>\n",
       "    </tr>\n",
       "  </thead>\n",
       "  <tbody>\n",
       "  </tbody>\n",
       "</table>\n",
       "</div>"
      ],
      "text/plain": [
       "Empty DataFrame\n",
       "Columns: [DB_URI, DB_label, DB_title, DB_runtime]\n",
       "Index: []"
      ]
     },
     "execution_count": 17,
     "metadata": {},
     "output_type": "execute_result"
    }
   ],
   "source": [
    "### IT LOOKS LIKE ALL DB TITLES ARE THERE, SO WE CAN DISCARD THE LABEL COLUMN ###\n",
    "cleaned_dbp[cleaned_dbp['DB_title'] == '']"
   ]
  },
  {
   "cell_type": "code",
   "execution_count": 18,
   "metadata": {},
   "outputs": [],
   "source": [
    "cleaned_dbp = cleaned_dbp.drop('DB_label', axis=1)"
   ]
  },
  {
   "cell_type": "markdown",
   "metadata": {},
   "source": [
    "# DATA MERGING"
   ]
  },
  {
   "cell_type": "code",
   "execution_count": 19,
   "metadata": {},
   "outputs": [
    {
     "data": {
      "text/html": [
       "<div>\n",
       "<style scoped>\n",
       "    .dataframe tbody tr th:only-of-type {\n",
       "        vertical-align: middle;\n",
       "    }\n",
       "\n",
       "    .dataframe tbody tr th {\n",
       "        vertical-align: top;\n",
       "    }\n",
       "\n",
       "    .dataframe thead th {\n",
       "        text-align: right;\n",
       "    }\n",
       "</style>\n",
       "<table border=\"1\" class=\"dataframe\">\n",
       "  <thead>\n",
       "    <tr style=\"text-align: right;\">\n",
       "      <th></th>\n",
       "      <th>LMDB_URI</th>\n",
       "      <th>LMDB_DB_link</th>\n",
       "      <th>LMDB_title</th>\n",
       "      <th>LMDB_runtime</th>\n",
       "      <th>DB_URI</th>\n",
       "      <th>DB_title</th>\n",
       "      <th>DB_runtime</th>\n",
       "    </tr>\n",
       "  </thead>\n",
       "  <tbody>\n",
       "    <tr>\n",
       "      <th>0</th>\n",
       "      <td>http://data.linkedmdb.org/resource/film/6235</td>\n",
       "      <td>http://dbpedia.org/resource/Bicentennial_Man_(...</td>\n",
       "      <td>Bicentennial Man</td>\n",
       "      <td>132</td>\n",
       "      <td>http://dbpedia.org/resource/Bicentennial_Man_(...</td>\n",
       "      <td>Bicentennial Man</td>\n",
       "      <td>120.0</td>\n",
       "    </tr>\n",
       "    <tr>\n",
       "      <th>1</th>\n",
       "      <td>http://data.linkedmdb.org/resource/film/7928</td>\n",
       "      <td>http://dbpedia.org/resource/The_Hand_(film)</td>\n",
       "      <td>The Hand</td>\n",
       "      <td>104</td>\n",
       "      <td>http://dbpedia.org/resource/The_Hand_(film)</td>\n",
       "      <td>The Hand</td>\n",
       "      <td>104.0</td>\n",
       "    </tr>\n",
       "    <tr>\n",
       "      <th>2</th>\n",
       "      <td>http://data.linkedmdb.org/resource/film/19745</td>\n",
       "      <td>http://dbpedia.org/resource/The_Telegraph_Trail</td>\n",
       "      <td>The Telegraph Trail</td>\n",
       "      <td>54</td>\n",
       "      <td>http://dbpedia.org/resource/The_Telegraph_Trail</td>\n",
       "      <td>The Telegraph Trail</td>\n",
       "      <td>54.0</td>\n",
       "    </tr>\n",
       "    <tr>\n",
       "      <th>3</th>\n",
       "      <td>http://data.linkedmdb.org/resource/film/7321</td>\n",
       "      <td>http://dbpedia.org/resource/Eye_of_the_Needle_...</td>\n",
       "      <td>Eye of the Needle</td>\n",
       "      <td>112</td>\n",
       "      <td>http://dbpedia.org/resource/Eye_of_the_Needle_...</td>\n",
       "      <td>Eye of the Needle</td>\n",
       "      <td>112.0</td>\n",
       "    </tr>\n",
       "    <tr>\n",
       "      <th>4</th>\n",
       "      <td>http://data.linkedmdb.org/resource/film/11432</td>\n",
       "      <td>http://dbpedia.org/resource/A_Smoky_Mountain_C...</td>\n",
       "      <td>A Smoky Mountain Christmas</td>\n",
       "      <td>94</td>\n",
       "      <td>http://dbpedia.org/resource/A_Smoky_Mountain_C...</td>\n",
       "      <td>A Smoky Mountain Christmas</td>\n",
       "      <td>94.0</td>\n",
       "    </tr>\n",
       "  </tbody>\n",
       "</table>\n",
       "</div>"
      ],
      "text/plain": [
       "                                        LMDB_URI  \\\n",
       "0   http://data.linkedmdb.org/resource/film/6235   \n",
       "1   http://data.linkedmdb.org/resource/film/7928   \n",
       "2  http://data.linkedmdb.org/resource/film/19745   \n",
       "3   http://data.linkedmdb.org/resource/film/7321   \n",
       "4  http://data.linkedmdb.org/resource/film/11432   \n",
       "\n",
       "                                        LMDB_DB_link  \\\n",
       "0  http://dbpedia.org/resource/Bicentennial_Man_(...   \n",
       "1        http://dbpedia.org/resource/The_Hand_(film)   \n",
       "2    http://dbpedia.org/resource/The_Telegraph_Trail   \n",
       "3  http://dbpedia.org/resource/Eye_of_the_Needle_...   \n",
       "4  http://dbpedia.org/resource/A_Smoky_Mountain_C...   \n",
       "\n",
       "                   LMDB_title  LMDB_runtime  \\\n",
       "0            Bicentennial Man           132   \n",
       "1                    The Hand           104   \n",
       "2         The Telegraph Trail            54   \n",
       "3           Eye of the Needle           112   \n",
       "4  A Smoky Mountain Christmas            94   \n",
       "\n",
       "                                              DB_URI  \\\n",
       "0  http://dbpedia.org/resource/Bicentennial_Man_(...   \n",
       "1        http://dbpedia.org/resource/The_Hand_(film)   \n",
       "2    http://dbpedia.org/resource/The_Telegraph_Trail   \n",
       "3  http://dbpedia.org/resource/Eye_of_the_Needle_...   \n",
       "4  http://dbpedia.org/resource/A_Smoky_Mountain_C...   \n",
       "\n",
       "                     DB_title  DB_runtime  \n",
       "0            Bicentennial Man       120.0  \n",
       "1                    The Hand       104.0  \n",
       "2         The Telegraph Trail        54.0  \n",
       "3           Eye of the Needle       112.0  \n",
       "4  A Smoky Mountain Christmas        94.0  "
      ]
     },
     "execution_count": 19,
     "metadata": {},
     "output_type": "execute_result"
    }
   ],
   "source": [
    "### MERGE THE TWO SETS ONLY WHERE THE URIS MATCH ###\n",
    "cleaned_lmdb_dbp = pd.merge(cleaned_lmdb, cleaned_dbp, left_on='LMDB_DB_link', right_on='DB_URI')\n",
    "cleaned_lmdb_dbp.head()"
   ]
  },
  {
   "cell_type": "code",
   "execution_count": 20,
   "metadata": {},
   "outputs": [
    {
     "data": {
      "text/plain": [
       "(2208, 7)"
      ]
     },
     "execution_count": 20,
     "metadata": {},
     "output_type": "execute_result"
    }
   ],
   "source": [
    "### WE ARE LEFT WITH ONLY 2208 EXAMPLES OUT OF 9000 SOMETHING ###\n",
    "cleaned_lmdb_dbp.shape"
   ]
  },
  {
   "cell_type": "code",
   "execution_count": 21,
   "metadata": {},
   "outputs": [],
   "source": [
    "### WE NEED TO GET THE CARTESION PRODUCT OF THE TWO SEPARATE DATAFRAMES THAT WE HAVE PREVIOUSLY COMBINED INTO ONE ###\n",
    "def df_crossjoin(df1, df2, **kwargs):\n",
    "    df1['_tmpkey'] = 1\n",
    "    df2['_tmpkey'] = 1\n",
    "\n",
    "    res = pd.merge(df1, df2, on='_tmpkey', **kwargs).drop('_tmpkey', axis=1)\n",
    "\n",
    "    df1.drop('_tmpkey', axis=1, inplace=True)\n",
    "    df2.drop('_tmpkey', axis=1, inplace=True)\n",
    "\n",
    "    return res\n"
   ]
  },
  {
   "cell_type": "code",
   "execution_count": 22,
   "metadata": {},
   "outputs": [
    {
     "data": {
      "text/html": [
       "<div>\n",
       "<style scoped>\n",
       "    .dataframe tbody tr th:only-of-type {\n",
       "        vertical-align: middle;\n",
       "    }\n",
       "\n",
       "    .dataframe tbody tr th {\n",
       "        vertical-align: top;\n",
       "    }\n",
       "\n",
       "    .dataframe thead th {\n",
       "        text-align: right;\n",
       "    }\n",
       "</style>\n",
       "<table border=\"1\" class=\"dataframe\">\n",
       "  <thead>\n",
       "    <tr style=\"text-align: right;\">\n",
       "      <th></th>\n",
       "      <th>LMDB_URI</th>\n",
       "      <th>LMDB_DB_link</th>\n",
       "      <th>DB_URI</th>\n",
       "      <th>LMDB_title</th>\n",
       "      <th>DB_title</th>\n",
       "      <th>LMDB_runtime</th>\n",
       "      <th>DB_runtime</th>\n",
       "    </tr>\n",
       "  </thead>\n",
       "  <tbody>\n",
       "    <tr>\n",
       "      <th>0</th>\n",
       "      <td>http://data.linkedmdb.org/resource/film/6235</td>\n",
       "      <td>http://dbpedia.org/resource/Bicentennial_Man_(...</td>\n",
       "      <td>http://dbpedia.org/resource/Bicentennial_Man_(...</td>\n",
       "      <td>Bicentennial Man</td>\n",
       "      <td>Bicentennial Man</td>\n",
       "      <td>132</td>\n",
       "      <td>120.0</td>\n",
       "    </tr>\n",
       "    <tr>\n",
       "      <th>1</th>\n",
       "      <td>http://data.linkedmdb.org/resource/film/6235</td>\n",
       "      <td>http://dbpedia.org/resource/Bicentennial_Man_(...</td>\n",
       "      <td>http://dbpedia.org/resource/The_Hand_(film)</td>\n",
       "      <td>Bicentennial Man</td>\n",
       "      <td>The Hand</td>\n",
       "      <td>132</td>\n",
       "      <td>104.0</td>\n",
       "    </tr>\n",
       "    <tr>\n",
       "      <th>2</th>\n",
       "      <td>http://data.linkedmdb.org/resource/film/6235</td>\n",
       "      <td>http://dbpedia.org/resource/Bicentennial_Man_(...</td>\n",
       "      <td>http://dbpedia.org/resource/The_Telegraph_Trail</td>\n",
       "      <td>Bicentennial Man</td>\n",
       "      <td>The Telegraph Trail</td>\n",
       "      <td>132</td>\n",
       "      <td>54.0</td>\n",
       "    </tr>\n",
       "    <tr>\n",
       "      <th>3</th>\n",
       "      <td>http://data.linkedmdb.org/resource/film/6235</td>\n",
       "      <td>http://dbpedia.org/resource/Bicentennial_Man_(...</td>\n",
       "      <td>http://dbpedia.org/resource/Eye_of_the_Needle_...</td>\n",
       "      <td>Bicentennial Man</td>\n",
       "      <td>Eye of the Needle</td>\n",
       "      <td>132</td>\n",
       "      <td>112.0</td>\n",
       "    </tr>\n",
       "    <tr>\n",
       "      <th>4</th>\n",
       "      <td>http://data.linkedmdb.org/resource/film/6235</td>\n",
       "      <td>http://dbpedia.org/resource/Bicentennial_Man_(...</td>\n",
       "      <td>http://dbpedia.org/resource/A_Smoky_Mountain_C...</td>\n",
       "      <td>Bicentennial Man</td>\n",
       "      <td>A Smoky Mountain Christmas</td>\n",
       "      <td>132</td>\n",
       "      <td>94.0</td>\n",
       "    </tr>\n",
       "  </tbody>\n",
       "</table>\n",
       "</div>"
      ],
      "text/plain": [
       "                                       LMDB_URI  \\\n",
       "0  http://data.linkedmdb.org/resource/film/6235   \n",
       "1  http://data.linkedmdb.org/resource/film/6235   \n",
       "2  http://data.linkedmdb.org/resource/film/6235   \n",
       "3  http://data.linkedmdb.org/resource/film/6235   \n",
       "4  http://data.linkedmdb.org/resource/film/6235   \n",
       "\n",
       "                                        LMDB_DB_link  \\\n",
       "0  http://dbpedia.org/resource/Bicentennial_Man_(...   \n",
       "1  http://dbpedia.org/resource/Bicentennial_Man_(...   \n",
       "2  http://dbpedia.org/resource/Bicentennial_Man_(...   \n",
       "3  http://dbpedia.org/resource/Bicentennial_Man_(...   \n",
       "4  http://dbpedia.org/resource/Bicentennial_Man_(...   \n",
       "\n",
       "                                              DB_URI        LMDB_title  \\\n",
       "0  http://dbpedia.org/resource/Bicentennial_Man_(...  Bicentennial Man   \n",
       "1        http://dbpedia.org/resource/The_Hand_(film)  Bicentennial Man   \n",
       "2    http://dbpedia.org/resource/The_Telegraph_Trail  Bicentennial Man   \n",
       "3  http://dbpedia.org/resource/Eye_of_the_Needle_...  Bicentennial Man   \n",
       "4  http://dbpedia.org/resource/A_Smoky_Mountain_C...  Bicentennial Man   \n",
       "\n",
       "                     DB_title  LMDB_runtime  DB_runtime  \n",
       "0            Bicentennial Man           132       120.0  \n",
       "1                    The Hand           132       104.0  \n",
       "2         The Telegraph Trail           132        54.0  \n",
       "3           Eye of the Needle           132       112.0  \n",
       "4  A Smoky Mountain Christmas           132        94.0  "
      ]
     },
     "execution_count": 22,
     "metadata": {},
     "output_type": "execute_result"
    }
   ],
   "source": [
    "### SPLIT UP THE REDUCED DATAFRAMES AGAIN FOR CROSSPRODUCT ###\n",
    "final_lmdb = cleaned_lmdb_dbp[['LMDB_URI', 'LMDB_DB_link', 'LMDB_title', 'LMDB_runtime']].copy()\n",
    "final_dbp = cleaned_lmdb_dbp[['DB_URI', 'DB_title', 'DB_runtime']].copy()\n",
    "### GET THE CROSS PRODUCT ###\n",
    "cross_lmdb_dbp = df_crossjoin(final_lmdb, final_dbp)\n",
    "### REARRANGE THE COLUMNS FOR EASIER VISUALISATION ###\n",
    "rearranged_cols = ['LMDB_URI', 'LMDB_DB_link', 'DB_URI', 'LMDB_title', 'DB_title', 'LMDB_runtime', 'DB_runtime']\n",
    "cross_lmdb_dbp = cross_lmdb_dbp[rearranged_cols]\n",
    "cross_lmdb_dbp.head()"
   ]
  },
  {
   "cell_type": "code",
   "execution_count": 23,
   "metadata": {},
   "outputs": [
    {
     "data": {
      "text/html": [
       "<div>\n",
       "<style scoped>\n",
       "    .dataframe tbody tr th:only-of-type {\n",
       "        vertical-align: middle;\n",
       "    }\n",
       "\n",
       "    .dataframe tbody tr th {\n",
       "        vertical-align: top;\n",
       "    }\n",
       "\n",
       "    .dataframe thead th {\n",
       "        text-align: right;\n",
       "    }\n",
       "</style>\n",
       "<table border=\"1\" class=\"dataframe\">\n",
       "  <thead>\n",
       "    <tr style=\"text-align: right;\">\n",
       "      <th></th>\n",
       "      <th>LMDB_URI</th>\n",
       "      <th>LMDB_DB_link</th>\n",
       "      <th>DB_URI</th>\n",
       "      <th>LMDB_title</th>\n",
       "      <th>DB_title</th>\n",
       "      <th>LMDB_runtime</th>\n",
       "      <th>DB_runtime</th>\n",
       "      <th>GROUND_TRUTH</th>\n",
       "    </tr>\n",
       "  </thead>\n",
       "  <tbody>\n",
       "    <tr>\n",
       "      <th>0</th>\n",
       "      <td>http://data.linkedmdb.org/resource/film/6235</td>\n",
       "      <td>http://dbpedia.org/resource/Bicentennial_Man_(...</td>\n",
       "      <td>http://dbpedia.org/resource/Bicentennial_Man_(...</td>\n",
       "      <td>Bicentennial Man</td>\n",
       "      <td>Bicentennial Man</td>\n",
       "      <td>132</td>\n",
       "      <td>120.0</td>\n",
       "      <td>True</td>\n",
       "    </tr>\n",
       "    <tr>\n",
       "      <th>1</th>\n",
       "      <td>http://data.linkedmdb.org/resource/film/6235</td>\n",
       "      <td>http://dbpedia.org/resource/Bicentennial_Man_(...</td>\n",
       "      <td>http://dbpedia.org/resource/The_Hand_(film)</td>\n",
       "      <td>Bicentennial Man</td>\n",
       "      <td>The Hand</td>\n",
       "      <td>132</td>\n",
       "      <td>104.0</td>\n",
       "      <td>False</td>\n",
       "    </tr>\n",
       "    <tr>\n",
       "      <th>2</th>\n",
       "      <td>http://data.linkedmdb.org/resource/film/6235</td>\n",
       "      <td>http://dbpedia.org/resource/Bicentennial_Man_(...</td>\n",
       "      <td>http://dbpedia.org/resource/The_Telegraph_Trail</td>\n",
       "      <td>Bicentennial Man</td>\n",
       "      <td>The Telegraph Trail</td>\n",
       "      <td>132</td>\n",
       "      <td>54.0</td>\n",
       "      <td>False</td>\n",
       "    </tr>\n",
       "    <tr>\n",
       "      <th>3</th>\n",
       "      <td>http://data.linkedmdb.org/resource/film/6235</td>\n",
       "      <td>http://dbpedia.org/resource/Bicentennial_Man_(...</td>\n",
       "      <td>http://dbpedia.org/resource/Eye_of_the_Needle_...</td>\n",
       "      <td>Bicentennial Man</td>\n",
       "      <td>Eye of the Needle</td>\n",
       "      <td>132</td>\n",
       "      <td>112.0</td>\n",
       "      <td>False</td>\n",
       "    </tr>\n",
       "    <tr>\n",
       "      <th>4</th>\n",
       "      <td>http://data.linkedmdb.org/resource/film/6235</td>\n",
       "      <td>http://dbpedia.org/resource/Bicentennial_Man_(...</td>\n",
       "      <td>http://dbpedia.org/resource/A_Smoky_Mountain_C...</td>\n",
       "      <td>Bicentennial Man</td>\n",
       "      <td>A Smoky Mountain Christmas</td>\n",
       "      <td>132</td>\n",
       "      <td>94.0</td>\n",
       "      <td>False</td>\n",
       "    </tr>\n",
       "  </tbody>\n",
       "</table>\n",
       "</div>"
      ],
      "text/plain": [
       "                                       LMDB_URI  \\\n",
       "0  http://data.linkedmdb.org/resource/film/6235   \n",
       "1  http://data.linkedmdb.org/resource/film/6235   \n",
       "2  http://data.linkedmdb.org/resource/film/6235   \n",
       "3  http://data.linkedmdb.org/resource/film/6235   \n",
       "4  http://data.linkedmdb.org/resource/film/6235   \n",
       "\n",
       "                                        LMDB_DB_link  \\\n",
       "0  http://dbpedia.org/resource/Bicentennial_Man_(...   \n",
       "1  http://dbpedia.org/resource/Bicentennial_Man_(...   \n",
       "2  http://dbpedia.org/resource/Bicentennial_Man_(...   \n",
       "3  http://dbpedia.org/resource/Bicentennial_Man_(...   \n",
       "4  http://dbpedia.org/resource/Bicentennial_Man_(...   \n",
       "\n",
       "                                              DB_URI        LMDB_title  \\\n",
       "0  http://dbpedia.org/resource/Bicentennial_Man_(...  Bicentennial Man   \n",
       "1        http://dbpedia.org/resource/The_Hand_(film)  Bicentennial Man   \n",
       "2    http://dbpedia.org/resource/The_Telegraph_Trail  Bicentennial Man   \n",
       "3  http://dbpedia.org/resource/Eye_of_the_Needle_...  Bicentennial Man   \n",
       "4  http://dbpedia.org/resource/A_Smoky_Mountain_C...  Bicentennial Man   \n",
       "\n",
       "                     DB_title  LMDB_runtime  DB_runtime  GROUND_TRUTH  \n",
       "0            Bicentennial Man           132       120.0          True  \n",
       "1                    The Hand           132       104.0         False  \n",
       "2         The Telegraph Trail           132        54.0         False  \n",
       "3           Eye of the Needle           132       112.0         False  \n",
       "4  A Smoky Mountain Christmas           132        94.0         False  "
      ]
     },
     "execution_count": 23,
     "metadata": {},
     "output_type": "execute_result"
    }
   ],
   "source": [
    "### WE SET THE GROUND TRUTH VALUES ACCORDING TO THE URI MATCH ###\n",
    "cross_lmdb_dbp['GROUND_TRUTH'] = cross_lmdb_dbp['LMDB_DB_link'] ==cross_lmdb_dbp['DB_URI']\n",
    "cross_lmdb_dbp.head()"
   ]
  },
  {
   "cell_type": "code",
   "execution_count": 24,
   "metadata": {},
   "outputs": [],
   "source": [
    "### BASELINE ATTEMPT AT INSTANCE MATCHING IS DONE BY EXACT MATCH ON TITLE AND RUNTIME ###\n",
    "cross_lmdb_dbp['TITLE_MATCH'] = cross_lmdb_dbp['LMDB_title'] == cross_lmdb_dbp['DB_title']\n",
    "cross_lmdb_dbp['RUNTIME_MATCH'] = cross_lmdb_dbp['LMDB_runtime'] == cross_lmdb_dbp['DB_runtime']\n",
    "cross_lmdb_dbp['EXACT_MATCH'] = cross_lmdb_dbp['RUNTIME_MATCH'] & cross_lmdb_dbp['TITLE_MATCH']"
   ]
  },
  {
   "cell_type": "code",
   "execution_count": 42,
   "metadata": {},
   "outputs": [
    {
     "data": {
      "text/plain": [
       "(1545, 11)"
      ]
     },
     "execution_count": 42,
     "metadata": {},
     "output_type": "execute_result"
    }
   ],
   "source": [
    "cross_lmdb_dbp[(cross_lmdb_dbp['EXACT_MATCH']) & (cross_lmdb_dbp['GROUND_TRUTH'])].shape"
   ]
  },
  {
   "cell_type": "code",
   "execution_count": 33,
   "metadata": {},
   "outputs": [
    {
     "data": {
      "text/plain": [
       "(2240, 11)"
      ]
     },
     "execution_count": 33,
     "metadata": {},
     "output_type": "execute_result"
    }
   ],
   "source": [
    "cross_lmdb_dbp[cross_lmdb_dbp['GROUND_TRUTH']].shape"
   ]
  },
  {
   "cell_type": "code",
   "execution_count": 34,
   "metadata": {},
   "outputs": [
    {
     "data": {
      "text/plain": [
       "(4875264, 11)"
      ]
     },
     "execution_count": 34,
     "metadata": {},
     "output_type": "execute_result"
    }
   ],
   "source": [
    "cross_lmdb_dbp.shape"
   ]
  },
  {
   "cell_type": "code",
   "execution_count": 35,
   "metadata": {},
   "outputs": [],
   "source": [
    "cross_lmdb_dbp.to_csv(os.path.join('Data', 'PropertyMatching', 'full_dataset.csv'))"
   ]
  }
 ],
 "metadata": {
  "kernelspec": {
   "display_name": "Python 3",
   "language": "python",
   "name": "python3"
  },
  "language_info": {
   "codemirror_mode": {
    "name": "ipython",
    "version": 3
   },
   "file_extension": ".py",
   "mimetype": "text/x-python",
   "name": "python",
   "nbconvert_exporter": "python",
   "pygments_lexer": "ipython3",
   "version": "3.6.5"
  }
 },
 "nbformat": 4,
 "nbformat_minor": 2
}
